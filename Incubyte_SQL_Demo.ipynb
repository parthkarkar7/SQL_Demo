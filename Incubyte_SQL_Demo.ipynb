{
 "cells": [
  {
   "cell_type": "code",
   "execution_count": 2,
   "metadata": {},
   "outputs": [],
   "source": [
    "import mysql.connector\n",
    "from mysql.connector import Error\n",
    "import pandas as pd"
   ]
  },
  {
   "cell_type": "code",
   "execution_count": 3,
   "metadata": {},
   "outputs": [
    {
     "name": "stdout",
     "output_type": "stream",
     "text": [
      "MYSQL Database connection successful\n"
     ]
    }
   ],
   "source": [
    "def create_server_connection(host_name,user_name,pwd):\n",
    "    connection=None\n",
    "    try:\n",
    "        connection=mysql.connector.connect(\n",
    "            host=host_name,\n",
    "            user=user_name,\n",
    "            passwd=pwd\n",
    "        )\n",
    "        print(\"MYSQL Database connection successful\")\n",
    "    except Error as err:\n",
    "        print(f\"Error : {err}\")\n",
    "    return connection\n",
    "\n",
    "\n",
    "host_name='localhost'\n",
    "user_name='root'             \n",
    "pwd='12345'\n",
    "db_name='sql_demo1'\n",
    "        \n",
    "connection=create_server_connection(host_name,user_name,pwd)  "
   ]
  },
  {
   "cell_type": "code",
   "execution_count": 4,
   "metadata": {},
   "outputs": [
    {
     "name": "stdout",
     "output_type": "stream",
     "text": [
      "Error : 1007 (HY000): Can't create database 'sql_demo1'; database exists\n"
     ]
    }
   ],
   "source": [
    "def create_database(connection,query):\n",
    "    cursor=connection.cursor()\n",
    "    try:\n",
    "        cursor.execute(query)\n",
    "        print(\"Database create successfully\")\n",
    "    except Error as err:\n",
    "        print(f\"Error : {err}\")\n",
    "\n",
    "              \n",
    "create_db_query=f\"\"\"create database {db_name}\n",
    "\"\"\"\n",
    "create_database(connection,create_db_query)"
   ]
  },
  {
   "cell_type": "code",
   "execution_count": 5,
   "metadata": {},
   "outputs": [],
   "source": [
    "def create_db_connection(host_name,user_name,pwd,db_name):\n",
    "    connection=None\n",
    "    try:\n",
    "        connection=mysql.connector.connect(\n",
    "            host=host_name,\n",
    "            user=user_name,\n",
    "            passwd=pwd,\n",
    "            database=db_name\n",
    "        )\n",
    "        print(\"MYSQL Database connection successful\")\n",
    "    except Error as err:\n",
    "        print(f\"Error : {err}\")\n",
    "    return connection"
   ]
  },
  {
   "cell_type": "code",
   "execution_count": 6,
   "metadata": {},
   "outputs": [],
   "source": [
    "def execute_query(connection,query):\n",
    "    cursor=connection.cursor()\n",
    "    try:\n",
    "        cursor.execute(query)\n",
    "        connection.commit()\n",
    "        print(\"Query Execute Successfully\")\n",
    "    except Error as err:\n",
    "        print(f\"Error : {err}\")"
   ]
  },
  {
   "cell_type": "code",
   "execution_count": 7,
   "metadata": {},
   "outputs": [
    {
     "name": "stdout",
     "output_type": "stream",
     "text": [
      "MYSQL Database connection successful\n",
      "Error : 1050 (42S01): Table 'tbl_country_list' already exists\n",
      "Error : 1050 (42S01): Table 'tbl_header' already exists\n",
      "Error : 1050 (42S01): Table 'tbl_trailer' already exists\n"
     ]
    }
   ],
   "source": [
    "create_countrylist_query=\"\"\"\n",
    "create table tbl_country_list(\n",
    "country varchar(30)primary key not null);\n",
    "\"\"\"\n",
    "\n",
    "create_headerlist_query=\"\"\"\n",
    "create table tbl_header(\n",
    "customer_name varchar(255),\n",
    "last_consulted_date date,\n",
    "customer_id varchar(18)\n",
    ");\n",
    "\"\"\"\n",
    "\n",
    "create_trailerlist_query=\"\"\"\n",
    "create table tbl_trailer(\n",
    "id varchar(5)\n",
    ");\n",
    "\"\"\"\n",
    "\n",
    "connection=create_db_connection(host_name,user_name,pwd,db_name)\n",
    "\n",
    "execute_query(connection,create_countrylist_query)\n",
    "execute_query(connection,create_headerlist_query)\n",
    "execute_query(connection,create_trailerlist_query)"
   ]
  },
  {
   "cell_type": "code",
   "execution_count": 8,
   "metadata": {},
   "outputs": [],
   "source": [
    "def insert_countrylist(cntry_name):\n",
    "\n",
    "    connection=create_db_connection(host_name,user_name,pwd,db_name)\n",
    "    cursor=connection.cursor()\n",
    "    \n",
    "    insert_countrylist_query=\"INSERT INTO tbl_country_list (country) VALUES (%s)\"\n",
    "        \n",
    "    val=list([cntry_name])\n",
    "\n",
    "    try:        \n",
    "        cursor.execute(insert_countrylist_query,val)\n",
    "        connection.commit()\n",
    "\n",
    "        print(\"Data Insert Successfully\")\n",
    "    except Error as err:\n",
    "        print(f\"Error : {err}\")"
   ]
  },
  {
   "cell_type": "code",
   "execution_count": 9,
   "metadata": {},
   "outputs": [],
   "source": [
    "def read_query(connection,query):\n",
    "    cursor=connection.cursor()\n",
    "    try:\n",
    "        cursor.execute(query)\n",
    "        results=cursor.fetchall()\n",
    "        return results\n",
    "    except Error as err:\n",
    "        print(f\"Error : {err}\")"
   ]
  },
  {
   "cell_type": "code",
   "execution_count": 10,
   "metadata": {},
   "outputs": [
    {
     "name": "stdout",
     "output_type": "stream",
     "text": [
      "MYSQL Database connection successful\n",
      "('au',)\n",
      "('usa',)\n",
      "('ind',)\n",
      "('phil',)\n"
     ]
    }
   ],
   "source": [
    "get_countrylist_query=\"\"\"\n",
    "select * from tbl_country_list\n",
    "\"\"\"\n",
    "\n",
    "connection=create_db_connection(host_name,user_name,pwd,db_name)\n",
    "results=read_query(connection,get_countrylist_query)\n",
    "\n",
    "for result in results:\n",
    "    print(result)"
   ]
  },
  {
   "cell_type": "code",
   "execution_count": 11,
   "metadata": {},
   "outputs": [],
   "source": [
    "def create_countrywise_table(table_name):\n",
    "    \n",
    "    create_countrywisetable_query=f\"\"\"\n",
    "        CREATE TABLE {table_name}(\n",
    "        customer_name varchar(255) primary key not null,\n",
    "        customer_id varchar(18) not null,\n",
    "        customer_opendate date,\n",
    "        last_consulted_date date,\n",
    "        vaccination_type char(5),\n",
    "        doctor_consulted varchar(255),\n",
    "        state char(5),\n",
    "        country char(30) not null,\n",
    "        post_code int(5) null,\n",
    "        date_of_birth date,\n",
    "        active_customer char(1));\n",
    "    \"\"\"\n",
    "    \n",
    "    try:        \n",
    "\n",
    "        connection=create_db_connection(host_name,user_name,pwd,db_name)\n",
    "        execute_query(connection,create_countrywisetable_query)\n",
    "        connection.commit()\n",
    "\n",
    "        print(\"Country Table Created Successfully\")\n",
    "    except Error as err:\n",
    "        print(f\"Error : {err}\")\n"
   ]
  },
  {
   "cell_type": "code",
   "execution_count": 20,
   "metadata": {},
   "outputs": [
    {
     "name": "stdout",
     "output_type": "stream",
     "text": [
      "MYSQL Database connection successful\n",
      "Raj\n",
      "123499\n",
      "20111012\n",
      "20131013\n",
      "MVD\n",
      "Mehta\n",
      "MUNCH\n",
      "Germany\n",
      "12341\n",
      "01031987\n",
      "I\n",
      "['Raj', '123499', '20111012', '20131013', 'MVD', 'Mehta', 'MUNCH', 'Germany', '12341', '01031987', 'I']\n",
      "tbl_germany <class 'str'>\n"
     ]
    },
    {
     "ename": "IntegrityError",
     "evalue": "1062 (23000): Duplicate entry 'Raj' for key 'tbl_germany.PRIMARY'",
     "output_type": "error",
     "traceback": [
      "\u001b[1;31m---------------------------------------------------------------------------\u001b[0m",
      "\u001b[1;31mMySQLInterfaceError\u001b[0m                       Traceback (most recent call last)",
      "\u001b[1;32m~\\anaconda3\\lib\\site-packages\\mysql\\connector\\connection_cext.py\u001b[0m in \u001b[0;36mcmd_query\u001b[1;34m(self, query, raw, buffered, raw_as_string)\u001b[0m\n\u001b[0;32m    512\u001b[0m                 \u001b[0mquery\u001b[0m \u001b[1;33m=\u001b[0m \u001b[0mquery\u001b[0m\u001b[1;33m.\u001b[0m\u001b[0mencode\u001b[0m\u001b[1;33m(\u001b[0m\u001b[1;34m'utf-8'\u001b[0m\u001b[1;33m)\u001b[0m\u001b[1;33m\u001b[0m\u001b[1;33m\u001b[0m\u001b[0m\n\u001b[1;32m--> 513\u001b[1;33m             self._cmysql.query(query,\n\u001b[0m\u001b[0;32m    514\u001b[0m                                \u001b[0mraw\u001b[0m\u001b[1;33m=\u001b[0m\u001b[0mraw\u001b[0m\u001b[1;33m,\u001b[0m \u001b[0mbuffered\u001b[0m\u001b[1;33m=\u001b[0m\u001b[0mbuffered\u001b[0m\u001b[1;33m,\u001b[0m\u001b[1;33m\u001b[0m\u001b[1;33m\u001b[0m\u001b[0m\n",
      "\u001b[1;31mMySQLInterfaceError\u001b[0m: Duplicate entry 'Raj' for key 'tbl_germany.PRIMARY'",
      "\nDuring handling of the above exception, another exception occurred:\n",
      "\u001b[1;31mIntegrityError\u001b[0m                            Traceback (most recent call last)",
      "\u001b[1;32m<ipython-input-20-ba82dd3c3984>\u001b[0m in \u001b[0;36m<module>\u001b[1;34m\u001b[0m\n\u001b[0;32m     92\u001b[0m \u001b[1;31m#end of method\u001b[0m\u001b[1;33m\u001b[0m\u001b[1;33m\u001b[0m\u001b[1;33m\u001b[0m\u001b[0m\n\u001b[0;32m     93\u001b[0m \u001b[1;33m\u001b[0m\u001b[0m\n\u001b[1;32m---> 94\u001b[1;33m \u001b[0minput_records\u001b[0m\u001b[1;33m(\u001b[0m\u001b[1;33m)\u001b[0m\u001b[1;33m\u001b[0m\u001b[1;33m\u001b[0m\u001b[0m\n\u001b[0m",
      "\u001b[1;32m<ipython-input-20-ba82dd3c3984>\u001b[0m in \u001b[0;36minput_records\u001b[1;34m()\u001b[0m\n\u001b[0;32m     84\u001b[0m \u001b[1;33m\u001b[0m\u001b[0m\n\u001b[0;32m     85\u001b[0m \u001b[1;33m\u001b[0m\u001b[0m\n\u001b[1;32m---> 86\u001b[1;33m                     \u001b[0mcursor\u001b[0m\u001b[1;33m.\u001b[0m\u001b[0mexecute\u001b[0m\u001b[1;33m(\u001b[0m\u001b[0minsert_countrywise_records_query\u001b[0m\u001b[1;33m,\u001b[0m\u001b[0mrecord_list\u001b[0m\u001b[1;33m)\u001b[0m\u001b[1;33m\u001b[0m\u001b[1;33m\u001b[0m\u001b[0m\n\u001b[0m\u001b[0;32m     87\u001b[0m                     \u001b[0mconnection\u001b[0m\u001b[1;33m.\u001b[0m\u001b[0mcommit\u001b[0m\u001b[1;33m(\u001b[0m\u001b[1;33m)\u001b[0m\u001b[1;33m\u001b[0m\u001b[1;33m\u001b[0m\u001b[0m\n\u001b[0;32m     88\u001b[0m \u001b[1;33m\u001b[0m\u001b[0m\n",
      "\u001b[1;32m~\\anaconda3\\lib\\site-packages\\mysql\\connector\\cursor_cext.py\u001b[0m in \u001b[0;36mexecute\u001b[1;34m(self, operation, params, multi)\u001b[0m\n\u001b[0;32m    267\u001b[0m \u001b[1;33m\u001b[0m\u001b[0m\n\u001b[0;32m    268\u001b[0m         \u001b[1;32mtry\u001b[0m\u001b[1;33m:\u001b[0m\u001b[1;33m\u001b[0m\u001b[1;33m\u001b[0m\u001b[0m\n\u001b[1;32m--> 269\u001b[1;33m             result = self._cnx.cmd_query(stmt, raw=self._raw,\n\u001b[0m\u001b[0;32m    270\u001b[0m                                          \u001b[0mbuffered\u001b[0m\u001b[1;33m=\u001b[0m\u001b[0mself\u001b[0m\u001b[1;33m.\u001b[0m\u001b[0m_buffered\u001b[0m\u001b[1;33m,\u001b[0m\u001b[1;33m\u001b[0m\u001b[1;33m\u001b[0m\u001b[0m\n\u001b[0;32m    271\u001b[0m                                          raw_as_string=self._raw_as_string)\n",
      "\u001b[1;32m~\\anaconda3\\lib\\site-packages\\mysql\\connector\\connection_cext.py\u001b[0m in \u001b[0;36mcmd_query\u001b[1;34m(self, query, raw, buffered, raw_as_string)\u001b[0m\n\u001b[0;32m    516\u001b[0m                                query_attrs=self._query_attrs)\n\u001b[0;32m    517\u001b[0m         \u001b[1;32mexcept\u001b[0m \u001b[0mMySQLInterfaceError\u001b[0m \u001b[1;32mas\u001b[0m \u001b[0mexc\u001b[0m\u001b[1;33m:\u001b[0m\u001b[1;33m\u001b[0m\u001b[1;33m\u001b[0m\u001b[0m\n\u001b[1;32m--> 518\u001b[1;33m             raise errors.get_mysql_exception(exc.errno, msg=exc.msg,\n\u001b[0m\u001b[0;32m    519\u001b[0m                                              sqlstate=exc.sqlstate)\n\u001b[0;32m    520\u001b[0m         \u001b[1;32mexcept\u001b[0m \u001b[0mAttributeError\u001b[0m\u001b[1;33m:\u001b[0m\u001b[1;33m\u001b[0m\u001b[1;33m\u001b[0m\u001b[0m\n",
      "\u001b[1;31mIntegrityError\u001b[0m: 1062 (23000): Duplicate entry 'Raj' for key 'tbl_germany.PRIMARY'"
     ]
    }
   ],
   "source": [
    "#insert data into counntrywise table\n",
    "import datetime\n",
    "\n",
    "\n",
    "header_list=list([])\n",
    "record_list=list([])\n",
    "\n",
    "date_format = \"%Y%m%d\"\n",
    "#dt_object = datetime.datetime.strptime(dt_string, date_format)\n",
    "\n",
    "def input_records():\n",
    "    connection=create_db_connection(host_name,user_name,pwd,db_name)\n",
    "    cursor=connection.cursor()\n",
    "\n",
    "\n",
    "    with open('demo_data.txt','r') as f:\n",
    "        for line in f:\n",
    "                line = line.strip()\n",
    "                    \n",
    "                if(line[1]==\"T\"):\n",
    "                    for word in line.split(\"|\"):\n",
    "                        if(word!=\"T\" and word!=\" \" and len(word)>0):\n",
    "                            insert_trailer_query=\"INSERT INTO tbl_trailer (id) VALUES (%s)\"\n",
    "                            val=list([word])\n",
    "\n",
    "                            cursor.execute(insert_trailer_query,val)\n",
    "                            connection.commit()\n",
    "                \n",
    "                elif(line[1]==\"H\"):\n",
    "                    for word in line.split(\"|\"):\n",
    "                        if(word!=\"H\" and word!=\" \" and len(word)>0):\n",
    "                            print(word)\n",
    "                            header_list.append(word)\n",
    "\n",
    "                    print(header_list)\n",
    "                    insert_header_query=\"INSERT INTO tbl_header VALUES (%s,%s,%s)\"\n",
    "                    cursor.execute(insert_header_query,header_list)\n",
    "                    connection.commit()\n",
    "                    header_list.clear()\n",
    "                \n",
    "                elif(line[1]==\"D\"):\n",
    "                    tbl_name=\"\"\n",
    "                    for word in line.split(\"|\"):\n",
    "                        if(word!=\"D\" and word!=\" \" and len(word)>0):\n",
    "                            print(word)\n",
    "                            record_list.append(word)\n",
    "                    \n",
    "                    print(record_list)\n",
    "                    \n",
    "                    #read all country list\n",
    "                    get_countrylist_query=\"\"\"\n",
    "                    select country from tbl_country_list\n",
    "                    \"\"\"\n",
    "                    results=read_query(connection,get_countrylist_query)\n",
    "\n",
    "                    isCountry_Found=False\n",
    "\n",
    "                    for result in results:\n",
    "                        result=','.join(result)\n",
    "                        if((result.casefold())==(record_list[7].casefold())):\n",
    "                            isCountry_Found=True        \n",
    "                            break\n",
    "                        else:\n",
    "                            isCountry_Found=False\n",
    "\n",
    "                    tbl_name=(\"tbl_\"+record_list[7].casefold()).format()\n",
    "                    print(tbl_name,type(tbl_name))\n",
    "                    \n",
    "                    if(isCountry_Found==False):\n",
    "                        insert_countrylist(record_list[7].casefold())\n",
    "                        create_countrywise_table(tbl_name)\n",
    "                        \n",
    "                        \n",
    "                    record_list[9]=datetime.datetime.strptime(record_list[9], \"%d%m%Y\").strftime(date_format)\n",
    "\n",
    "#                     insert_countrywise_records_query=f\"\"\"\n",
    "#                      INSERT INTO {tbl_name}\n",
    "#                              (customer_name,customer_id,customer_opendate,last_consulted_date,\n",
    "#                              vaccination_type,doctor_consulted,state,\n",
    "#                              country,post_code,date_of_birth,active_customer)\n",
    "#                              VALUES (%s,%s,%s,%s,%s,%s,%s,%s,%s,%s,%s)\"\"\"\n",
    "\n",
    "                    insert_countrywise_records_query=f\"INSERT INTO {tbl_name} VALUES (%s,%s,%s,%s,%s,%s,%s,%s,%s,%s,%s)\"\n",
    "\n",
    "\n",
    "                    cursor.execute(insert_countrywise_records_query,record_list)\n",
    "                    connection.commit()\n",
    " \n",
    "                    record_list.clear()\n",
    "                \n",
    "        connection.close()      \n",
    "#end of method\n",
    "\n",
    "input_records()"
   ]
  },
  {
   "cell_type": "code",
   "execution_count": 19,
   "metadata": {},
   "outputs": [
    {
     "name": "stdout",
     "output_type": "stream",
     "text": [
      "Enter Country : ind\n",
      "MYSQL Database connection successful\n",
      "('Jay', '12345', datetime.date(2010, 10, 12), datetime.date(2012, 10, 13), 'MVD', 'Paul', 'BOS', 'IND', 66542, datetime.date(1987, 3, 6), 'A')\n",
      "('John', '123456', datetime.date(2010, 10, 12), datetime.date(2012, 10, 13), 'MVD', 'Paul', 'NSW', 'IND', 38732, datetime.date(1987, 3, 6), 'A')\n",
      "('Parth', '123458', datetime.date(2010, 10, 12), datetime.date(2012, 10, 13), 'MVD', 'Paul', 'TN', 'IND', 23313, datetime.date(1987, 3, 6), 'A')\n"
     ]
    }
   ],
   "source": [
    "cntry=input(\"Enter Country : \")\n",
    "\n",
    "tbl_name=\"tbl_\"+cntry\n",
    "\n",
    "get_countrylist_query=f\"\"\"\n",
    "select * from {tbl_name}\n",
    "\"\"\"\n",
    "\n",
    "connection=create_db_connection(host_name,user_name,pwd,db_name)\n",
    "results=read_query(connection,get_countrylist_query)\n",
    "\n",
    "for result in results:\n",
    "    print(result)"
   ]
  }
 ],
 "metadata": {
  "kernelspec": {
   "display_name": "Python 3",
   "language": "python",
   "name": "python3"
  },
  "language_info": {
   "codemirror_mode": {
    "name": "ipython",
    "version": 3
   },
   "file_extension": ".py",
   "mimetype": "text/x-python",
   "name": "python",
   "nbconvert_exporter": "python",
   "pygments_lexer": "ipython3",
   "version": "3.8.5"
  },
  "widgets": {
   "application/vnd.jupyter.widget-state+json": {
    "state": {},
    "version_major": 2,
    "version_minor": 0
   }
  }
 },
 "nbformat": 4,
 "nbformat_minor": 4
}
