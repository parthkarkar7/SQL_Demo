{
 "cells": [
  {
   "cell_type": "code",
   "execution_count": 1,
   "metadata": {},
   "outputs": [],
   "source": [
    "import mysql.connector\n",
    "from mysql.connector import Error\n",
    "import pandas as pd"
   ]
  },
  {
   "cell_type": "code",
   "execution_count": 2,
   "metadata": {},
   "outputs": [
    {
     "name": "stdout",
     "output_type": "stream",
     "text": [
      "MYSQL Database connection successful\n"
     ]
    }
   ],
   "source": [
    "def create_server_connection(host_name,user_name,pwd):\n",
    "    connection=None\n",
    "    try:\n",
    "        connection=mysql.connector.connect(\n",
    "            host=host_name,\n",
    "            user=user_name,\n",
    "            passwd=pwd\n",
    "        )\n",
    "        print(\"MYSQL Database connection successful\")\n",
    "    except Error as err:\n",
    "        print(f\"Error : {err}\")\n",
    "    return connection\n",
    "\n",
    "\n",
    "host_name='localhost'\n",
    "user_name='root'             \n",
    "pwd='12345'\n",
    "db_name='sql_demo'\n",
    "        \n",
    "connection=create_server_connection(host_name,user_name,pwd)  "
   ]
  },
  {
   "cell_type": "code",
   "execution_count": 3,
   "metadata": {},
   "outputs": [
    {
     "name": "stdout",
     "output_type": "stream",
     "text": [
      "Error : 1007 (HY000): Can't create database 'sql_demo'; database exists\n"
     ]
    }
   ],
   "source": [
    "def create_database(connection,query):\n",
    "    cursor=connection.cursor()\n",
    "    try:\n",
    "        cursor.execute(query)\n",
    "        print(\"Database create successfully\")\n",
    "    except Error as err:\n",
    "        print(f\"Error : {err}\")\n",
    "\n",
    "              \n",
    "create_db_query=f\"\"\"create database {db_name}\n",
    "\"\"\"\n",
    "create_database(connection,create_db_query)"
   ]
  },
  {
   "cell_type": "code",
   "execution_count": 4,
   "metadata": {},
   "outputs": [],
   "source": [
    "def create_db_connection(host_name,user_name,pwd,db_name):\n",
    "    connection=None\n",
    "    try:\n",
    "        connection=mysql.connector.connect(\n",
    "            host=host_name,\n",
    "            user=user_name,\n",
    "            passwd=pwd,\n",
    "            database=db_name\n",
    "        )\n",
    "        print(\"MYSQL Database connection successful\")\n",
    "    except Error as err:\n",
    "        print(f\"Error : {err}\")\n",
    "    return connection"
   ]
  },
  {
   "cell_type": "code",
   "execution_count": 5,
   "metadata": {},
   "outputs": [],
   "source": [
    "def execute_query(connection,query):\n",
    "    cursor=connection.cursor()\n",
    "    try:\n",
    "        cursor.execute(query)\n",
    "        connection.commit()\n",
    "        print(\"Query Execute Successfully\")\n",
    "    except Error as err:\n",
    "        print(f\"Error : {err}\")"
   ]
  },
  {
   "cell_type": "code",
   "execution_count": 6,
   "metadata": {},
   "outputs": [
    {
     "name": "stdout",
     "output_type": "stream",
     "text": [
      "MYSQL Database connection successful\n",
      "Error : 1050 (42S01): Table 'tbl_country_list' already exists\n",
      "Error : 1050 (42S01): Table 'tbl_header' already exists\n",
      "Error : 1050 (42S01): Table 'tbl_trailer' already exists\n"
     ]
    }
   ],
   "source": [
    "create_countrylist_query=\"\"\"\n",
    "create table tbl_country_list(\n",
    "country varchar(30) not null);\n",
    "\"\"\"\n",
    "\n",
    "create_headerlist_query=\"\"\"\n",
    "create table tbl_header(\n",
    "customer_name varchar(255),\n",
    "last_consulted_date date,\n",
    "customer_id varchar(18)\n",
    ");\n",
    "\"\"\"\n",
    "\n",
    "create_trailerlist_query=\"\"\"\n",
    "create table tbl_trailer(\n",
    "id varchar(5)\n",
    ");\n",
    "\"\"\"\n",
    "\n",
    "connection=create_db_connection(host_name,user_name,pwd,db_name)\n",
    "\n",
    "execute_query(connection,create_countrylist_query)\n",
    "execute_query(connection,create_headerlist_query)\n",
    "execute_query(connection,create_trailerlist_query)"
   ]
  },
  {
   "cell_type": "code",
   "execution_count": 7,
   "metadata": {},
   "outputs": [],
   "source": [
    "def insert_countrylist(cntry_name):\n",
    "\n",
    "    connection=create_db_connection(host_name,user_name,pwd,db_name)\n",
    "    cursor=connection.cursor()\n",
    "    \n",
    "    insert_countrylist_query=\"INSERT INTO tbl_country_list (country) VALUES (%s)\"\n",
    "        \n",
    "    val=list([cntry_name])\n",
    "\n",
    "    try:        \n",
    "        cursor.execute(insert_countrylist_query,val)\n",
    "        connection.commit()\n",
    "\n",
    "        print(\"Data Insert Successfully\")\n",
    "    except Error as err:\n",
    "        print(f\"Error : {err}\")"
   ]
  },
  {
   "cell_type": "code",
   "execution_count": 8,
   "metadata": {},
   "outputs": [],
   "source": [
    "def read_query(connection,query):\n",
    "    cursor=connection.cursor()\n",
    "    try:\n",
    "        cursor.execute(query)\n",
    "        results=cursor.fetchall()\n",
    "        return results\n",
    "    except Error as err:\n",
    "        print(f\"Error : {err}\")"
   ]
  },
  {
   "cell_type": "code",
   "execution_count": 9,
   "metadata": {},
   "outputs": [
    {
     "name": "stdout",
     "output_type": "stream",
     "text": [
      "MYSQL Database connection successful\n"
     ]
    }
   ],
   "source": [
    "get_countrylist_query=\"\"\"\n",
    "select * from tbl_country_list\n",
    "\"\"\"\n",
    "\n",
    "connection=create_db_connection(host_name,user_name,pwd,db_name)\n",
    "results=read_query(connection,get_countrylist_query)\n",
    "\n",
    "for result in results:\n",
    "    print(result)"
   ]
  },
  {
   "cell_type": "code",
   "execution_count": 21,
   "metadata": {},
   "outputs": [],
   "source": [
    "def create_countrywise_table(table_name):\n",
    "    \n",
    "    create_countrywisetable_query=f\"\"\"\n",
    "    create table {table_name.format()}(\n",
    "    customer_name varchar(255) not null,\n",
    "    customer_id varchar(18) not null primary key,\n",
    "    customer_opendate date,\n",
    "    last_consulted_date date,\n",
    "    vaccination_type char(5),\n",
    "    doctor_consulted varchar(255),\n",
    "    state char(5),\n",
    "    country char(30) not null,\n",
    "    post_code int(5) null,\n",
    "    date_of_birth date,\n",
    "    active_customer char(1)\n",
    "    );\n",
    "    \"\"\"\n",
    "    \n",
    "    try:        \n",
    "\n",
    "        connection=create_db_connection(host_name,user_name,pwd,db_name)\n",
    "        execute_query(connection,create_countrywisetable_query)\n",
    "        connection.commit()\n",
    "\n",
    "        print(\"Country Table Created Successfully\")\n",
    "    except Error as err:\n",
    "        print(f\"Error : {err}\")\n"
   ]
  },
  {
   "cell_type": "code",
   "execution_count": 23,
   "metadata": {},
   "outputs": [],
   "source": [
    "#insert data into counntrywise table\n",
    "import datetime\n",
    "\n",
    "cursor=connection.cursor()\n",
    "\n",
    "header_list=list([])\n",
    "record_list=list([])\n",
    "\n",
    "date_format = \"%Y%m%d\"\n",
    "#dt_object = datetime.datetime.strptime(dt_string, date_format)\n",
    "\n",
    "def input_records():\n",
    "    connection=create_db_connection(host_name,user_name,pwd,db_name)\n",
    "\n",
    "    isCountry_Found=False\n",
    "\n",
    "    with open('demo_data.txt','r') as f:\n",
    "        for line in f:\n",
    "                line = line.strip()\n",
    "                    \n",
    "                if(line[1]==\"T\"):\n",
    "                    for word in line.split(\"|\"):\n",
    "                        if(word!=\"T\" and word!=\" \" and len(word)>0):\n",
    "                            insert_trailer_query=\"INSERT INTO tbl_trailer (id) VALUES (%s)\"\n",
    "                            val=list([word])\n",
    "\n",
    "                            cursor.execute(insert_trailer_query,val)\n",
    "                            connection.commit()\n",
    "                \n",
    "                elif(line[1]==\"H\"):\n",
    "                    for word in line.split(\"|\"):\n",
    "                        if(word!=\"H\" and word!=\" \" and len(word)>0):\n",
    "                            print(word)\n",
    "                            header_list.append(word)\n",
    "\n",
    "                    print(header_list)\n",
    "                    insert_header_query=\"INSERT INTO tbl_header VALUES (%s,%s,%s)\"\n",
    "                    cursor.execute(insert_header_query,header_list)\n",
    "                    connection.commit()\n",
    "                    header_list.clear()\n",
    "                \n",
    "                elif(line[1]==\"D\"):\n",
    "                    for word in line.split(\"|\"):\n",
    "                        if(word!=\"D\" and word!=\" \" and len(word)>0):\n",
    "                            print(word)\n",
    "                            record_list.append(word)\n",
    "                    \n",
    "                    print(record_list)\n",
    "                    \n",
    "                    #read all country list\n",
    "                    get_countrylist_query=\"\"\"\n",
    "                    select country from tbl_country_list\n",
    "                    \"\"\"\n",
    "                    results=read_query(connection,get_countrylist_query)\n",
    "\n",
    "                    for result in results:\n",
    "                        result=','.join(result)\n",
    "                        if((result.casefold())==(record_list[7].casefold())):\n",
    "                            isCountry_Found=True        \n",
    "                            break\n",
    "                        else:\n",
    "                            isCountry_Found=False\n",
    "\n",
    "                    table_name=(\"tbl_\"+record_list[7]).format()\n",
    "                    print(table_name,type(table_name))\n",
    "                    \n",
    "                    if(isCountry_Found==False):\n",
    "                        insert_countrylist(record_list[7])\n",
    "                        \n",
    "                        create_countrywise_table(table_name)\n",
    "                        \n",
    "                    record_list[9]=datetime.datetime.strptime(record_list[9], \"%d%m%Y\").strftime(date_format)\n",
    "\n",
    "                    insert_countrywise_records_query=f\"\"\"\n",
    "                    INSERT INTO {table_name.format()} \n",
    "                            (customer_name,customer_id,customer_opendate,last_consulted_date,\n",
    "                            vaccination_type,doctor_consulted,state,\n",
    "                            country,post_code,date_of_birth,active_customer) \n",
    "                            VALUES (%s,%s,%s,%s,%s,%s,%s,%s,%s,%s,%s)\n",
    "                    \"\"\"\n",
    "                    \n",
    "                    cursor.execute(insert_countrywise_records_query,record_list)\n",
    "                    connection.commit()\n",
    " \n",
    "                    record_list.clear()\n",
    "                \n",
    "        connection.close()      \n",
    "#end of method\n",
    "\n",
    "input_records()"
   ]
  },
  {
   "cell_type": "code",
   "execution_count": null,
   "metadata": {},
   "outputs": [],
   "source": [
    "get_countrylist_query=\"\"\"\n",
    "select * from tbl_au\n",
    "\"\"\"\n",
    "\n",
    "connection=create_db_connection(host_name,user_name,pwd,db_name)\n",
    "results=read_query(connection,get_countrylist_query)\n",
    "\n",
    "for result in results:\n",
    "    print(result)"
   ]
  }
 ],
 "metadata": {
  "kernelspec": {
   "display_name": "Python 3",
   "language": "python",
   "name": "python3"
  },
  "language_info": {
   "codemirror_mode": {
    "name": "ipython",
    "version": 3
   },
   "file_extension": ".py",
   "mimetype": "text/x-python",
   "name": "python",
   "nbconvert_exporter": "python",
   "pygments_lexer": "ipython3",
   "version": "3.8.5"
  },
  "widgets": {
   "application/vnd.jupyter.widget-state+json": {
    "state": {},
    "version_major": 2,
    "version_minor": 0
   }
  }
 },
 "nbformat": 4,
 "nbformat_minor": 4
}
